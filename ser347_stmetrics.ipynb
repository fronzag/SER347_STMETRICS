{
 "cells": [
  {
   "cell_type": "markdown",
   "metadata": {},
   "source": [
    "-------------------------\n",
    "\n",
    " ## SER 347 - ST METRICS\n",
    "\n",
    "--------------------------\n",
    "\n",
    "\n",
    "\n",
    "\n",
    "Ouvintes: José Guilherme Fronza e Michel Eustáquio Dantas Chaves \n",
    "\n",
    "Data: 08/06/2020"
   ]
  },
  {
   "cell_type": "markdown",
   "metadata": {},
   "source": [
    "## Sobre o ST METRICS\n",
    "\n",
    "##### The stmetrics, is a python package that provides the extraction of state-of-the-art time-series features. These features can be used for remote sensing time-series image classification and analysis."
   ]
  },
  {
   "cell_type": "markdown",
   "metadata": {},
   "source": [
    "01: Instalação do pacote [stmetrics](https://stmetrics.readthedocs.io/en/latest/index.html) (Soares et al., 2020). Este pacote permite a extração de métricas fenológicas de classes de uso e cobertura da terra avaliadas no espaço e no tempo."
   ]
  },
  {
   "cell_type": "code",
   "execution_count": null,
   "metadata": {},
   "outputs": [],
   "source": [
    "#!pip install git+https://github.com/andersonreisoares/stmetrics@spatial --upgrade"
   ]
  },
  {
   "cell_type": "markdown",
   "metadata": {},
   "source": [
    "02: Importação de bibliotecas utilizando comandos 'import' do ambiente Jupyter correspondente ao ambiente criado, considerando o Kernel específico para este ambiente."
   ]
  },
  {
   "cell_type": "code",
   "execution_count": null,
   "metadata": {},
   "outputs": [],
   "source": [
    "###Importing libs that we'll use to run your code\n",
    "# Python Native\n",
    "import os\n",
    "import multiprocessing as mp\n",
    "# 3rd party\n",
    "import gdal\n",
    "import rasterio\n",
    "import stmetrics\n",
    "import numpy\n",
    "import pandas\n",
    "import matplotlib.pyplot as plt\n",
    "import shapely\n",
    "from shapely.geometry import shape\n",
    "import fiona\n",
    "from rasterio.mask import mask\n",
    "import warnings\n",
    "warnings.filterwarnings('ignore')\n",
    "\n",
    "#how to get help in stmetrics\n",
    "#help(stmetrics.basics.amplitude)\n"
   ]
  },
  {
   "cell_type": "markdown",
   "metadata": {},
   "source": [
    "03: Definição de uma função para listar todas as imagens contidas na pasta padrão dos dados de entrada. Ao todo, foram consideradas 36 imagens entre os anos de 2017 e 2019."
   ]
  },
  {
   "cell_type": "code",
   "execution_count": null,
   "metadata": {},
   "outputs": [],
   "source": [
    "# Function to list all images from input path\n",
    "def list_all_images(image_path):\n",
    "    # Creates an empty list\n",
    "    li_bands = []\n",
    "    for name in os.listdir(image_path):\n",
    "            li_bands.append(os.path.join(image_path,name))\n",
    "    li_bands.sort()\n",
    "    return li_bands"
   ]
  },
  {
   "cell_type": "markdown",
   "metadata": {},
   "source": [
    "04: Obtenção da leitura e listagem das imagens contidas na pasta padrão dos dados de entrada. Output: leitura e listagem dentro do ambiente Jupyter.\n"
   ]
  },
  {
   "cell_type": "code",
   "execution_count": null,
   "metadata": {},
   "outputs": [],
   "source": [
    "# List input images in folder to stack over time 2017~2019 - 36 images\n",
    "\n",
    "#input path folder \n",
    "path = 'C:/path_images'\n",
    "\n",
    "#run function created above to list input path folder\n",
    "listimg = list_all_images(path)\n",
    "\n",
    "#print total image in list to check\n",
    "print(len(listimg))\n",
    "\n",
    "#print images names - list elements - to check\n",
    "print(listimg)"
   ]
  },
  {
   "cell_type": "markdown",
   "metadata": {},
   "source": [
    "05: Definição de pasta padrão para o armazenamento do arquivo stack gerado a partir de toda a série de imagens contidas na pasta padrão dos dados de entrada. Output: leitura das 36 imagens e mosaico de todas elas.\n"
   ]
  },
  {
   "cell_type": "code",
   "execution_count": null,
   "metadata": {},
   "outputs": [],
   "source": [
    "# Input output path to image data stack\n",
    "path_out = 'C:/path'\n",
    "\n",
    "#set working output dir\n",
    "os.chdir(path_out)\n",
    "\n",
    "# Read metadata of first file\n",
    "with rasterio.open(listimg[0]) as src0:\n",
    "    #read metadata of first file in the list and put into \"meta\"\n",
    "    meta = src0.meta\n",
    "    \n",
    "# Update \"meta\" to get total list items\n",
    "meta.update(count = len(listimg))\n",
    "\n",
    "# Read each layer and write it to stack\n",
    "with rasterio.open('lc8_2017_2019_stack.tif', 'w', **meta) as dst:\n",
    "    #loop to list images in listimg\n",
    "    for id, layer in enumerate(listimg, start=1):\n",
    "        print(id, layer)\n",
    "        #open the \"layer\" as src1\n",
    "        with rasterio.open(layer) as src1:\n",
    "            #write it in dst temp file\n",
    "            dst.write_band(id, src1.read(1))"
   ]
  },
  {
   "cell_type": "markdown",
   "metadata": {},
   "source": [
    "06: Determinação de comando utilizando a biblioteca gdal para condicionar a projeção da imagem stack para a mesma projeção dos dados amostrais, EPSG:32723. Ainda nesta etapa, foi definida a pasta padrão para alocar o arquivo com nova projeção."
   ]
  },
  {
   "cell_type": "code",
   "execution_count": null,
   "metadata": {},
   "outputs": [],
   "source": [
    "### Using gdal warp to reproject stack tif\n",
    "\n",
    "# Set input file name to warp\n",
    "filename = r\"/path/lc8_2017_2019_stack.tif\"\n",
    "\n",
    "# Open the input file with gdal.Open\n",
    "input_raster = gdal.Open(filename)\n",
    "\n",
    "# Set output file name\n",
    "output_raster = r\"/path/lc8_2017_2019_stack_32723R.tif\"\n",
    "\n",
    "# Warp the input tif to selected EPSG in dstSRS\n",
    "gdal.Warp(output_raster,input_raster,dstSRS='EPSG:32723')\n",
    "\n",
    "# Clean memory\n",
    "del input_raster\n",
    "del output_raster"
   ]
  },
  {
   "cell_type": "markdown",
   "metadata": {},
   "source": [
    "07: Leitura dos arquivos de amostras, em formato shapefile (.shp), e seleção de talhões específicos para análise no stmetrics."
   ]
  },
  {
   "cell_type": "code",
   "execution_count": null,
   "metadata": {},
   "outputs": [],
   "source": [
    "## Open shapefile geometry to select id from list\n",
    "shapefile_path = '/path/samples.shp'\n",
    "\n",
    "#select list shapefile ID to crop and input in STMETRICS\n",
    "list_ids = [13, 148, 64, 32,189, 193, 121]\n",
    "\n",
    "#output path to selected id shapefile\n",
    "path_out = '/path/'\n",
    "\n",
    "#set working output dir\n",
    "os.chdir(path_out)        \n",
    "\n",
    "#fiona to open shapefile, write meta variable\n",
    "with fiona.open(shapefile_path, \"r\") as entrada:\n",
    "    #get metadata \n",
    "    meta = entrada.meta\n",
    "    #write shapefile output \n",
    "    with fiona.open('shape_selected_ids.shp', 'w',**meta) as output:\n",
    "        for feature in entrada:\n",
    "            #loop to list ids from list_ids variable\n",
    "            for i in list_ids:\n",
    "                #if to check selected id and write in output\n",
    "                if feature['properties']['Id'] == i:\n",
    "                output.write(feature)"
   ]
  },
  {
   "cell_type": "markdown",
   "metadata": {},
   "source": [
    "08: Definição e leitura de extensão geométrica para cada amostra (talhão) escolhida para avaliação.\n",
    "\n",
    "\n",
    "09: Definição de comando para a sobreposição entre o arquivo stack de imagens ao longo do tempo e o arquivo shapefile de amostras.\n",
    "\n",
    "10: Definição de pasta padrão para alocação dos produtos gerados a partir da etapa anterior. Ainda nesta etapa, abertura do arquivo .tif e recorte com base nos limites geográficos de cada talhão analisado.\n",
    "\n"
   ]
  },
  {
   "cell_type": "code",
   "execution_count": null,
   "metadata": {
    "scrolled": true
   },
   "outputs": [],
   "source": [
    "#input path to write crops (raster subset by shapefile id),\n",
    "#this is considered by the processing time of stmetrics\n",
    "path_out = '/path/'\n",
    "\n",
    "#set working output dir\n",
    "os.chdir(path_out)\n",
    "\n",
    "#open shapefile \n",
    "with fiona.open('/path/shape_selected_ids.shp', \"r\") as shapefile:\n",
    "    for feature in shapefile:\n",
    "        # obtendo a geometria associada a feição\n",
    "        geom = shape(feature[\"geometry\"])\n",
    "        #print(feature)\n",
    "        #open tif to crop by selected ids\n",
    "        with rasterio.open('/path/lc8_2017_2019_stack_32723R.tif', \"r\") as src:\n",
    "            out_image, out_transform = rasterio.mask.mask(src, [geom], crop=True)\n",
    "            out_meta = src.meta\n",
    "        #print(str(feature['properties']['Id']))\n",
    "        #output file name \n",
    "        out_file = str(feature['properties']['Id']) + 'masked.tif'\n",
    "        #metadata write\n",
    "        out_meta.update({\"driver\": \"GTiff\",\n",
    "                 \"height\": out_image.shape[1],\n",
    "                 \"width\": out_image.shape[2],\n",
    "                 \"transform\": out_transform})\n",
    "        #write output in crop tif \n",
    "        with rasterio.open(out_file, \"w\", **out_meta) as dest:\n",
    "            dest.write(out_image)"
   ]
  },
  {
   "cell_type": "markdown",
   "metadata": {},
   "source": [
    "11: Listagem dos talhões escolhidos para análise dentro do conjunto de amostras disponível e recorte da série temporal de cada talhão de acordo com a extensão dos limites geográficos de cada um."
   ]
  },
  {
   "cell_type": "code",
   "execution_count": null,
   "metadata": {},
   "outputs": [],
   "source": [
    "#input path to cropped tifs\n",
    "path = '/path/crops'\n",
    "\n",
    "#list cropped images\n",
    "listcrop = list_all_images(path)\n",
    "\n",
    "#print list crop\n",
    "print(listcrop)"
   ]
  },
  {
   "cell_type": "markdown",
   "metadata": {},
   "source": [
    "12: Comando para a extração de métricas a partir dos recortes gerados."
   ]
  },
  {
   "cell_type": "code",
   "execution_count": null,
   "metadata": {},
   "outputs": [],
   "source": [
    "#initialize empty list variable\n",
    "im_crop = []\n",
    "\n",
    "#loop to run sits2metrics for cropped images\n",
    "for crop in listcrop: \n",
    "    dataset = rasterio.open(crop)\n",
    "    #metricas = numpy.vstack(lista)\n",
    "    im_crop.append(stmetrics.metrics.sits2metrics(dataset))"
   ]
  },
  {
   "cell_type": "markdown",
   "metadata": {},
   "source": [
    "13: Listagem das dimensões de análise e determinação da geração de figuras de cada talhão analisado em cada métrica a ser considerada.\n"
   ]
  },
  {
   "cell_type": "code",
   "execution_count": null,
   "metadata": {},
   "outputs": [],
   "source": [
    "###tests to check the list of numpy arrays, stmetrics output\n",
    "\n",
    "#check crop dimensions\n",
    "#im_crop[3].ndim\n",
    "\n",
    "#check total crop \n",
    "print(len(im_crop))\n",
    "\n",
    "#check data type to use\n",
    "print(type(im_crop))\n",
    "\n",
    "#plot a crop to test plt.imshow\n",
    "plt.imshow(im_crop[0][1,:,:])"
   ]
  },
  {
   "cell_type": "markdown",
   "metadata": {},
   "source": [
    "14: Determinação das métricas consideradas, acesso à lista de imagens, ao arquivo .shp contendo as dimensões espaciais de cada talhão em linhas e colunas. Ainda nesta etapa, determinação das configurações dos arquivos de saída, inclusive das figuras geradas para cada talhão."
   ]
  },
  {
   "cell_type": "code",
   "execution_count": null,
   "metadata": {},
   "outputs": [],
   "source": [
    "#create header to metrics in stmetrics lib\n",
    "header=[\"Mean\", \"Max\", \"Min\", \"Std\", \"Sum\",\"Amplitude\",\"First_slope\",\"Area\",\"Area_s1\",\"Area_s2\",\"Area_s3\",\"Area_s4\",\"Circle\",\"Gyration\",\"Polar_balance\",\"Angle\", \"DFA\",\"Hurst\",\"Katz\"]\n",
    "\n",
    "#initialize figure (all) and ax with 19 rows and each crop in new column\n",
    "fig, ax  = plt.subplots(19, len(im_crop) , figsize=(10,30))\n",
    "\n",
    "#loop to create columns on lenght of cropped tifs\n",
    "for column in range(1,len(im_crop)+1):\n",
    "    #print(column)\n",
    "    for b, n in zip(range(1, im_crop[0].shape[0]+1),header):\n",
    "        #b is the metrics index - over 19 metrics\n",
    "        #n is the header index  - over 19 metrics names\n",
    "        #column to control the column ax -column index\n",
    "        #print(column, b, n)\n",
    "        # here we walk through ax row and column to plot with imshow\n",
    "        ax[b-1, column-1].imshow(im_crop[column-1][b-1,:,:])\n",
    "        plt.tight_layout()\n",
    "        #set header title to ax\n",
    "        ax[b-1, column-1].set_title(n)\n",
    "#show figure\n",
    "plt.show()       \n",
    "\n",
    "#extras - to save figure\n",
    "#plt.savefig(out_file +'.png', dpi=300, bbox_inches='tight')\n",
    "#plt.close(fig=None)"
   ]
  },
  {
   "cell_type": "markdown",
   "metadata": {},
   "source": [
    "15: Construção de listas de valores da média dos talhões para inserir em gráficos de série temporal, objetivando observar o comportamento temporal do NDVI ao longo do período selecionado."
   ]
  },
  {
   "cell_type": "code",
   "execution_count": null,
   "metadata": {},
   "outputs": [],
   "source": [
    "# initialize empty list variable\n",
    "l = []\n",
    "\n",
    "#for to get mean value to crop in 36 time points\n",
    "for crop in listcrop:\n",
    "    #initialize and clear totalcrop for an 36 time poins stack\n",
    "    totalcrop = []\n",
    "    #append totalcrop in a list of lists called l\n",
    "    l.append(totalcrop)\n",
    "    #open crop\n",
    "    with rasterio.open(crop) as cropimg:\n",
    "        #iterate over bands\n",
    "        for b in range(1, cropimg.count+1):\n",
    "            #read band\n",
    "            data = cropimg.read(b)\n",
    "            #calculate mean not considering no data -9999 values\n",
    "            average = data[data!=-9999].mean()\n",
    "            #print(b, average)\n",
    "            #append the mean in totalcrop list\n",
    "            totalcrop.append(average) \n",
    "            #print(b, mean)\n",
    "            #create a variable num_time\n",
    "            num_time = cropimg.count"
   ]
  },
  {
   "cell_type": "markdown",
   "metadata": {},
   "source": [
    "16: Construção dos gráficos para os talhões ao longo do período analisado.\n"
   ]
  },
  {
   "cell_type": "code",
   "execution_count": null,
   "metadata": {},
   "outputs": [],
   "source": [
    "#create a time range to use in plot\n",
    "time = range(1, num_time+1)\n",
    "\n",
    "#print(time)\n",
    "\n",
    "#valores_cro1 = l[0]\n",
    "lencrop = (len(l))\n",
    "\n",
    "\n",
    "#initialize figure with crop lenght in rows\n",
    "fig, ax  = plt.subplots(nrows=lencrop,ncols=1, figsize=(20,20))\n",
    "\n",
    "#loop to create rows in lenght of cropped tifs\n",
    "for b in range(0, len(l)):\n",
    "    #save crop in valores crop to use in plot\n",
    "    valores_crop = l[b]\n",
    "    #ax plot the time and valores_crop\n",
    "    ax[b].plot(time,valores_crop)\n",
    "    #plt.tight_layout()\n",
    "    #set header title to ax\n",
    "    n = os.path.basename(listcrop[b])[0:-4]\n",
    "    ax[b].set_title(n)\n",
    "#show figure\n",
    "plt.show()     "
   ]
  }
 ],
 "metadata": {
  "kernelspec": {
   "display_name": "Python (STmetrics)",
   "language": "python",
   "name": "ser347_stmetrics"
  },
  "language_info": {
   "codemirror_mode": {
    "name": "ipython",
    "version": 3
   },
   "file_extension": ".py",
   "mimetype": "text/x-python",
   "name": "python",
   "nbconvert_exporter": "python",
   "pygments_lexer": "ipython3",
   "version": "3.8.2"
  }
 },
 "nbformat": 4,
 "nbformat_minor": 4
}
