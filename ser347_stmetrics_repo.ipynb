{
 "cells": [
  {
   "cell_type": "markdown",
   "metadata": {},
   "source": [
    "-------------------------\n",
    "\n",
    " ## SER 347 - ST METRICS\n",
    "\n",
    "--------------------------\n",
    "\n",
    "\n",
    "\n",
    "\n",
    "Ouvintes: José Guilherme Fronza e Michel Eustáquio Dantas Chaves \n",
    "\n",
    "Data: 08/06/2020"
   ]
  },
  {
   "cell_type": "markdown",
   "metadata": {},
   "source": [
    "## Sobre o ST METRICS\n",
    "\n",
    "##### The stmetrics, is a python package that provides the extraction of state-of-the-art time-series features. These features can be used for remote sensing time-series image classification and analysis."
   ]
  },
  {
   "cell_type": "markdown",
   "metadata": {},
   "source": [
    "## Instalação\n",
    "\n",
    "01: Instalação do pacote [stmetrics](https://stmetrics.readthedocs.io/en/latest/index.html) (Soares et al., 2020). Este pacote permite a extração de métricas fenológicas de classes de uso e cobertura da terra avaliadas no espaço e no tempo."
   ]
  },
  {
   "cell_type": "code",
   "execution_count": null,
   "metadata": {},
   "outputs": [],
   "source": [
    "#!pip install git+https://github.com/andersonreisoares/stmetrics@spatial --upgrade"
   ]
  },
  {
   "cell_type": "markdown",
   "metadata": {},
   "source": [
    "## Importação de Libs\n",
    "\n",
    "\n",
    "02: Importação de bibliotecas utilizando comandos 'import' do ambiente Jupyter correspondente ao ambiente criado, considerando o Kernel específico para este ambiente."
   ]
  },
  {
   "cell_type": "code",
   "execution_count": 18,
   "metadata": {},
   "outputs": [],
   "source": [
    "###Importing libs that we'll use to run your code\n",
    "# Python Native\n",
    "import os\n",
    "import multiprocessing as mp\n",
    "# 3rd party\n",
    "import gdal\n",
    "import rasterio\n",
    "import stmetrics\n",
    "import numpy\n",
    "import pandas\n",
    "import matplotlib.pyplot as plt\n",
    "import shapely\n",
    "from shapely.geometry import shape\n",
    "import fiona\n",
    "from rasterio.mask import mask\n",
    "from rasterio.windows import Window\n",
    "import warnings\n",
    "warnings.filterwarnings('ignore')\n",
    "\n",
    "#how to get help in stmetrics\n",
    "#help(stmetrics.basics.amplitude)\n"
   ]
  },
  {
   "cell_type": "markdown",
   "metadata": {},
   "source": [
    "## Dados utilizados \n",
    "\n",
    "\n",
    "Brazil Data Cube - [Portal](http://brazildatacube.dpi.inpe.br/portal/explore)\n",
    "\n",
    "Cubo Landsat Stack Mensal - 2017 - 2019 - NDVI\n",
    "\n",
    "Task do projeto - inspeção de alvos pseudo-invariantes e espectralmente \"estáveis\" "
   ]
  },
  {
   "cell_type": "code",
   "execution_count": 1,
   "metadata": {},
   "outputs": [],
   "source": [
    "import stac"
   ]
  },
  {
   "cell_type": "code",
   "execution_count": 2,
   "metadata": {},
   "outputs": [
    {
     "data": {
      "text/plain": [
       "'0.8.1-1'"
      ]
     },
     "execution_count": 2,
     "metadata": {},
     "output_type": "execute_result"
    }
   ],
   "source": [
    "stac.__version__"
   ]
  },
  {
   "cell_type": "code",
   "execution_count": 3,
   "metadata": {},
   "outputs": [],
   "source": [
    "stac = stac.STAC('http://brazildatacube.dpi.inpe.br/bdc-stac/0.8.1/')"
   ]
  },
  {
   "cell_type": "code",
   "execution_count": 4,
   "metadata": {},
   "outputs": [
    {
     "data": {
      "text/plain": [
       "['C4_64',\n",
       " 'C4_64_16D_MED',\n",
       " 'C4_64_16D_STK',\n",
       " 'C4_64_1M_MED',\n",
       " 'C4_64_1M_STK',\n",
       " 'HLS.L30',\n",
       " 'HLS.S30',\n",
       " 'LC8_30',\n",
       " 'LC8_30_1M_MED',\n",
       " 'LC8_30_1M_STK',\n",
       " 'LC8DN',\n",
       " 'LC8SR',\n",
       " 'MOD13Q1',\n",
       " 'MYD13Q1',\n",
       " 'S2_10',\n",
       " 'S2_10_16D_MED',\n",
       " 'S2_10_16D_STK',\n",
       " 'S2_10_1M_MED',\n",
       " 'S2_10_1M_STK',\n",
       " 'S2_MSI_L2_SR_LASRC',\n",
       " 'S2SR_SEN28',\n",
       " 'S2TOA']"
      ]
     },
     "execution_count": 4,
     "metadata": {},
     "output_type": "execute_result"
    }
   ],
   "source": [
    "stac.catalog"
   ]
  },
  {
   "cell_type": "code",
   "execution_count": 5,
   "metadata": {},
   "outputs": [
    {
     "data": {
      "text/plain": [
       "{'description': 'Landsat8 Cubes 30m - Monthly',\n",
       " 'extent': {'spatial': {'bbox': [[-56.3667152139104,\n",
       "     -19.988164021975,\n",
       "     -43.3594820794987,\n",
       "     -9.3595005044585]]},\n",
       "  'temporal': {'interval': [['2017-01-01', '2019-12-31']]}},\n",
       " 'id': 'LC8_30_1M_STK',\n",
       " 'license': '',\n",
       " 'links': [{'href': 'http://brazildatacube.dpi.inpe.br/bdc-stac/0.8.1/collections/LC8_30_1M_STK',\n",
       "   'rel': 'self'},\n",
       "  {'href': 'http://brazildatacube.dpi.inpe.br/bdc-stac/0.8.1/collections/LC8_30_1M_STK/items',\n",
       "   'rel': 'items'},\n",
       "  {'href': 'http://brazildatacube.dpi.inpe.br/bdc-stac/0.8.1/collections',\n",
       "   'rel': 'parent'},\n",
       "  {'href': 'http://brazildatacube.dpi.inpe.br/bdc-stac/0.8.1/collections',\n",
       "   'rel': 'root'},\n",
       "  {'href': 'http://brazildatacube.dpi.inpe.br/bdc-stac/0.8.1/stac',\n",
       "   'rel': 'root'}],\n",
       " 'properties': {'bdc:bands': {'blue': {'data_type': 'int16',\n",
       "    'description': '',\n",
       "    'fill': -9999,\n",
       "    'max': 10000.0,\n",
       "    'mime_type': 'image/tiff',\n",
       "    'min': 0.0,\n",
       "    'name': 'blue',\n",
       "    'resolution_unit': 'm',\n",
       "    'resolution_x': 30.0,\n",
       "    'resolution_y': 30.0,\n",
       "    'scale': '0.0001'},\n",
       "   'cnc': {'data_type': 'Int16',\n",
       "    'description': None,\n",
       "    'fill': 0,\n",
       "    'max': 255.0,\n",
       "    'mime_type': 'image/tiff',\n",
       "    'min': 0.0,\n",
       "    'name': 'cnc',\n",
       "    'resolution_unit': 'm',\n",
       "    'resolution_x': 30.0,\n",
       "    'resolution_y': 30.0,\n",
       "    'scale': '1'},\n",
       "   'coastal': {'data_type': 'int16',\n",
       "    'description': '',\n",
       "    'fill': -9999,\n",
       "    'max': 10000.0,\n",
       "    'mime_type': 'image/tiff',\n",
       "    'min': 0.0,\n",
       "    'name': 'coastal',\n",
       "    'resolution_unit': 'm',\n",
       "    'resolution_x': 30.0,\n",
       "    'resolution_y': 30.0,\n",
       "    'scale': '0.0001'},\n",
       "   'evi': {'data_type': 'int16',\n",
       "    'description': '',\n",
       "    'fill': -9999,\n",
       "    'max': 10000.0,\n",
       "    'mime_type': 'image/tiff',\n",
       "    'min': 0.0,\n",
       "    'name': 'evi',\n",
       "    'resolution_unit': 'm',\n",
       "    'resolution_x': 30.0,\n",
       "    'resolution_y': 30.0,\n",
       "    'scale': '0.0001'},\n",
       "   'green': {'data_type': 'int16',\n",
       "    'description': '',\n",
       "    'fill': -9999,\n",
       "    'max': 10000.0,\n",
       "    'mime_type': 'image/tiff',\n",
       "    'min': 0.0,\n",
       "    'name': 'green',\n",
       "    'resolution_unit': 'm',\n",
       "    'resolution_x': 30.0,\n",
       "    'resolution_y': 30.0,\n",
       "    'scale': '0.0001'},\n",
       "   'ndvi': {'data_type': 'int16',\n",
       "    'description': '',\n",
       "    'fill': -9999,\n",
       "    'max': 10000.0,\n",
       "    'mime_type': 'image/tiff',\n",
       "    'min': 0.0,\n",
       "    'name': 'ndvi',\n",
       "    'resolution_unit': 'm',\n",
       "    'resolution_x': 30.0,\n",
       "    'resolution_y': 30.0,\n",
       "    'scale': '0.0001'},\n",
       "   'nir': {'data_type': 'int16',\n",
       "    'description': '',\n",
       "    'fill': -9999,\n",
       "    'max': 10000.0,\n",
       "    'mime_type': 'image/tiff',\n",
       "    'min': 0.0,\n",
       "    'name': 'nir',\n",
       "    'resolution_unit': 'm',\n",
       "    'resolution_x': 30.0,\n",
       "    'resolution_y': 30.0,\n",
       "    'scale': '0.0001'},\n",
       "   'quality': {'data_type': 'Uint16',\n",
       "    'description': '',\n",
       "    'fill': 0,\n",
       "    'max': 255.0,\n",
       "    'mime_type': 'image/tiff',\n",
       "    'min': 0.0,\n",
       "    'name': 'quality',\n",
       "    'resolution_unit': 'm',\n",
       "    'resolution_x': 30.0,\n",
       "    'resolution_y': 30.0,\n",
       "    'scale': '1'},\n",
       "   'red': {'data_type': 'int16',\n",
       "    'description': '',\n",
       "    'fill': -9999,\n",
       "    'max': 10000.0,\n",
       "    'mime_type': 'image/tiff',\n",
       "    'min': 0.0,\n",
       "    'name': 'red',\n",
       "    'resolution_unit': 'm',\n",
       "    'resolution_x': 30.0,\n",
       "    'resolution_y': 30.0,\n",
       "    'scale': '0.0001'},\n",
       "   'swir1': {'data_type': 'int16',\n",
       "    'description': '',\n",
       "    'fill': -9999,\n",
       "    'max': 10000.0,\n",
       "    'mime_type': 'image/tiff',\n",
       "    'min': 0.0,\n",
       "    'name': 'swir1',\n",
       "    'resolution_unit': 'm',\n",
       "    'resolution_x': 30.0,\n",
       "    'resolution_y': 30.0,\n",
       "    'scale': '0.0001'},\n",
       "   'swir2': {'data_type': 'int16',\n",
       "    'description': '',\n",
       "    'fill': -9999,\n",
       "    'max': 10000.0,\n",
       "    'mime_type': 'image/tiff',\n",
       "    'min': 0.0,\n",
       "    'name': 'swir2',\n",
       "    'resolution_unit': 'm',\n",
       "    'resolution_x': 30.0,\n",
       "    'resolution_y': 30.0,\n",
       "    'scale': '0.0001'}},\n",
       "  'bdc:bands_quicklook': ['swir2', 'nir', 'red'],\n",
       "  'bdc:composite_function': 'STK',\n",
       "  'bdc:crs': '+proj=aea +lat_1=10 +lat_2=-40 +lat_0=0 +lon_0=-50 +x_0=0 +y_0=0 +ellps=WGS84 +datum=WGS84 +units=m +no_defs',\n",
       "  'bdc:cube': True,\n",
       "  'bdc:temporal_composition': {'schema': 'M', 'step': '1', 'unit': 'month'},\n",
       "  'bdc:tiles': ['083100',\n",
       "   '083101',\n",
       "   '083102',\n",
       "   '083103',\n",
       "   '084100',\n",
       "   '084101',\n",
       "   '084102',\n",
       "   '084103',\n",
       "   '084104',\n",
       "   '085101',\n",
       "   '085102',\n",
       "   '085103',\n",
       "   '085104',\n",
       "   '085105',\n",
       "   '086102',\n",
       "   '086103',\n",
       "   '086104',\n",
       "   '086105',\n",
       "   '087102',\n",
       "   '087103',\n",
       "   '087104',\n",
       "   '088102',\n",
       "   '088103',\n",
       "   '088104',\n",
       "   '089095',\n",
       "   '089096',\n",
       "   '089097',\n",
       "   '089098',\n",
       "   '089099',\n",
       "   '089100',\n",
       "   '089101',\n",
       "   '090096',\n",
       "   '090097',\n",
       "   '090098',\n",
       "   '090099',\n",
       "   '090100'],\n",
       "  'bdc:timeline': ['2017-01-01',\n",
       "   '2017-02-01',\n",
       "   '2017-03-01',\n",
       "   '2017-04-01',\n",
       "   '2017-05-01',\n",
       "   '2017-06-01',\n",
       "   '2017-07-01',\n",
       "   '2017-08-01',\n",
       "   '2017-09-01',\n",
       "   '2017-10-01',\n",
       "   '2017-11-01',\n",
       "   '2017-12-01',\n",
       "   '2018-01-01',\n",
       "   '2018-02-01',\n",
       "   '2018-03-01',\n",
       "   '2018-04-01',\n",
       "   '2018-05-01',\n",
       "   '2018-06-01',\n",
       "   '2018-07-01',\n",
       "   '2018-08-01',\n",
       "   '2018-09-01',\n",
       "   '2018-10-01',\n",
       "   '2018-11-01',\n",
       "   '2018-12-01',\n",
       "   '2019-01-01',\n",
       "   '2019-02-01',\n",
       "   '2019-03-01',\n",
       "   '2019-04-01',\n",
       "   '2019-05-01',\n",
       "   '2019-06-01',\n",
       "   '2019-07-01',\n",
       "   '2019-08-01',\n",
       "   '2019-09-01',\n",
       "   '2019-10-01',\n",
       "   '2019-11-01',\n",
       "   '2019-12-01'],\n",
       "  'bdc:wrs': 'BDC_GRID'},\n",
       " 'stac_version': '0.8.1'}"
      ]
     },
     "execution_count": 5,
     "metadata": {},
     "output_type": "execute_result"
    }
   ],
   "source": [
    "collection = stac.collection('LC8_30_1M_STK')\n",
    "collection"
   ]
  },
  {
   "cell_type": "code",
   "execution_count": 10,
   "metadata": {},
   "outputs": [],
   "source": [
    "items = collection.get_items(filter={'bbox':'-46.64246,-11.34137,-45.14282,-12.19776',\n",
    "                                     'time':'2016-09-13/2019-12-31', 'limit':1000})"
   ]
  },
  {
   "cell_type": "code",
   "execution_count": 11,
   "metadata": {},
   "outputs": [],
   "source": [
    "#create empty list \n",
    "lst = []\n",
    "\n",
    "#get ndvi links to images in Brazil Data Cube\n",
    "for item in range(0, len(items.features)):\n",
    "    #print(item)\n",
    "    #print(items.features)\n",
    "    lst.append(items.features[item].assets['ndvi']['href'])"
   ]
  },
  {
   "cell_type": "code",
   "execution_count": 13,
   "metadata": {},
   "outputs": [
    {
     "data": {
      "text/plain": [
       "36"
      ]
     },
     "execution_count": 13,
     "metadata": {},
     "output_type": "execute_result"
    }
   ],
   "source": [
    "len(lst)"
   ]
  },
  {
   "cell_type": "code",
   "execution_count": 14,
   "metadata": {},
   "outputs": [
    {
     "data": {
      "text/plain": [
       "['http://brazildatacube.dpi.inpe.br/Repository/Mosaic/LC8_30_1M_STK/089097/2019-12-01_2019-12-31/LC8_30_1M_STK_089097_2019-12-01_2019-12-31_ndvi.tif',\n",
       " 'http://brazildatacube.dpi.inpe.br/Repository/Mosaic/LC8_30_1M_STK/089097/2019-11-01_2019-11-30/LC8_30_1M_STK_089097_2019-11-01_2019-11-30_ndvi.tif',\n",
       " 'http://brazildatacube.dpi.inpe.br/Repository/Mosaic/LC8_30_1M_STK/089097/2019-10-01_2019-10-31/LC8_30_1M_STK_089097_2019-10-01_2019-10-31_ndvi.tif',\n",
       " 'http://brazildatacube.dpi.inpe.br/Repository/Mosaic/LC8_30_1M_STK/089097/2019-09-01_2019-09-30/LC8_30_1M_STK_089097_2019-09-01_2019-09-30_ndvi.tif',\n",
       " 'http://brazildatacube.dpi.inpe.br/Repository/Mosaic/LC8_30_1M_STK/089097/2019-08-01_2019-08-31/LC8_30_1M_STK_089097_2019-08-01_2019-08-31_ndvi.tif',\n",
       " 'http://brazildatacube.dpi.inpe.br/Repository/Mosaic/LC8_30_1M_STK/089097/2019-07-01_2019-07-31/LC8_30_1M_STK_089097_2019-07-01_2019-07-31_ndvi.tif',\n",
       " 'http://brazildatacube.dpi.inpe.br/Repository/Mosaic/LC8_30_1M_STK/089097/2019-06-01_2019-06-30/LC8_30_1M_STK_089097_2019-06-01_2019-06-30_ndvi.tif',\n",
       " 'http://brazildatacube.dpi.inpe.br/Repository/Mosaic/LC8_30_1M_STK/089097/2019-05-01_2019-05-31/LC8_30_1M_STK_089097_2019-05-01_2019-05-31_ndvi.tif',\n",
       " 'http://brazildatacube.dpi.inpe.br/Repository/Mosaic/LC8_30_1M_STK/089097/2019-04-01_2019-04-30/LC8_30_1M_STK_089097_2019-04-01_2019-04-30_ndvi.tif',\n",
       " 'http://brazildatacube.dpi.inpe.br/Repository/Mosaic/LC8_30_1M_STK/089097/2019-03-01_2019-03-31/LC8_30_1M_STK_089097_2019-03-01_2019-03-31_ndvi.tif',\n",
       " 'http://brazildatacube.dpi.inpe.br/Repository/Mosaic/LC8_30_1M_STK/089097/2019-02-01_2019-02-28/LC8_30_1M_STK_089097_2019-02-01_2019-02-28_ndvi.tif',\n",
       " 'http://brazildatacube.dpi.inpe.br/Repository/Mosaic/LC8_30_1M_STK/089097/2019-01-01_2019-01-31/LC8_30_1M_STK_089097_2019-01-01_2019-01-31_ndvi.tif',\n",
       " 'http://brazildatacube.dpi.inpe.br/Repository/Mosaic/LC8_30_1M_STK/089097/2018-12-01_2018-12-31/LC8_30_1M_STK_089097_2018-12-01_2018-12-31_ndvi.tif',\n",
       " 'http://brazildatacube.dpi.inpe.br/Repository/Mosaic/LC8_30_1M_STK/089097/2018-11-01_2018-11-30/LC8_30_1M_STK_089097_2018-11-01_2018-11-30_ndvi.tif',\n",
       " 'http://brazildatacube.dpi.inpe.br/Repository/Mosaic/LC8_30_1M_STK/089097/2018-10-01_2018-10-31/LC8_30_1M_STK_089097_2018-10-01_2018-10-31_ndvi.tif',\n",
       " 'http://brazildatacube.dpi.inpe.br/Repository/Mosaic/LC8_30_1M_STK/089097/2018-09-01_2018-09-30/LC8_30_1M_STK_089097_2018-09-01_2018-09-30_ndvi.tif',\n",
       " 'http://brazildatacube.dpi.inpe.br/Repository/Mosaic/LC8_30_1M_STK/089097/2018-08-01_2018-08-31/LC8_30_1M_STK_089097_2018-08-01_2018-08-31_ndvi.tif',\n",
       " 'http://brazildatacube.dpi.inpe.br/Repository/Mosaic/LC8_30_1M_STK/089097/2018-07-01_2018-07-31/LC8_30_1M_STK_089097_2018-07-01_2018-07-31_ndvi.tif',\n",
       " 'http://brazildatacube.dpi.inpe.br/Repository/Mosaic/LC8_30_1M_STK/089097/2018-06-01_2018-06-30/LC8_30_1M_STK_089097_2018-06-01_2018-06-30_ndvi.tif',\n",
       " 'http://brazildatacube.dpi.inpe.br/Repository/Mosaic/LC8_30_1M_STK/089097/2018-05-01_2018-05-31/LC8_30_1M_STK_089097_2018-05-01_2018-05-31_ndvi.tif',\n",
       " 'http://brazildatacube.dpi.inpe.br/Repository/Mosaic/LC8_30_1M_STK/089097/2018-04-01_2018-04-30/LC8_30_1M_STK_089097_2018-04-01_2018-04-30_ndvi.tif',\n",
       " 'http://brazildatacube.dpi.inpe.br/Repository/Mosaic/LC8_30_1M_STK/089097/2018-03-01_2018-03-31/LC8_30_1M_STK_089097_2018-03-01_2018-03-31_ndvi.tif',\n",
       " 'http://brazildatacube.dpi.inpe.br/Repository/Mosaic/LC8_30_1M_STK/089097/2018-02-01_2018-02-28/LC8_30_1M_STK_089097_2018-02-01_2018-02-28_ndvi.tif',\n",
       " 'http://brazildatacube.dpi.inpe.br/Repository/Mosaic/LC8_30_1M_STK/089097/2018-01-01_2018-01-31/LC8_30_1M_STK_089097_2018-01-01_2018-01-31_ndvi.tif',\n",
       " 'http://brazildatacube.dpi.inpe.br/Repository/Mosaic/LC8_30_1M_STK/089097/2017-12-01_2017-12-31/LC8_30_1M_STK_089097_2017-12-01_2017-12-31_ndvi.tif',\n",
       " 'http://brazildatacube.dpi.inpe.br/Repository/Mosaic/LC8_30_1M_STK/089097/2017-11-01_2017-11-30/LC8_30_1M_STK_089097_2017-11-01_2017-11-30_ndvi.tif',\n",
       " 'http://brazildatacube.dpi.inpe.br/Repository/Mosaic/LC8_30_1M_STK/089097/2017-10-01_2017-10-31/LC8_30_1M_STK_089097_2017-10-01_2017-10-31_ndvi.tif',\n",
       " 'http://brazildatacube.dpi.inpe.br/Repository/Mosaic/LC8_30_1M_STK/089097/2017-09-01_2017-09-30/LC8_30_1M_STK_089097_2017-09-01_2017-09-30_ndvi.tif',\n",
       " 'http://brazildatacube.dpi.inpe.br/Repository/Mosaic/LC8_30_1M_STK/089097/2017-08-01_2017-08-31/LC8_30_1M_STK_089097_2017-08-01_2017-08-31_ndvi.tif',\n",
       " 'http://brazildatacube.dpi.inpe.br/Repository/Mosaic/LC8_30_1M_STK/089097/2017-07-01_2017-07-31/LC8_30_1M_STK_089097_2017-07-01_2017-07-31_ndvi.tif',\n",
       " 'http://brazildatacube.dpi.inpe.br/Repository/Mosaic/LC8_30_1M_STK/089097/2017-06-01_2017-06-30/LC8_30_1M_STK_089097_2017-06-01_2017-06-30_ndvi.tif',\n",
       " 'http://brazildatacube.dpi.inpe.br/Repository/Mosaic/LC8_30_1M_STK/089097/2017-05-01_2017-05-31/LC8_30_1M_STK_089097_2017-05-01_2017-05-31_ndvi.tif',\n",
       " 'http://brazildatacube.dpi.inpe.br/Repository/Mosaic/LC8_30_1M_STK/089097/2017-04-01_2017-04-30/LC8_30_1M_STK_089097_2017-04-01_2017-04-30_ndvi.tif',\n",
       " 'http://brazildatacube.dpi.inpe.br/Repository/Mosaic/LC8_30_1M_STK/089097/2017-03-01_2017-03-31/LC8_30_1M_STK_089097_2017-03-01_2017-03-31_ndvi.tif',\n",
       " 'http://brazildatacube.dpi.inpe.br/Repository/Mosaic/LC8_30_1M_STK/089097/2017-02-01_2017-02-28/LC8_30_1M_STK_089097_2017-02-01_2017-02-28_ndvi.tif',\n",
       " 'http://brazildatacube.dpi.inpe.br/Repository/Mosaic/LC8_30_1M_STK/089097/2017-01-01_2017-01-31/LC8_30_1M_STK_089097_2017-01-01_2017-01-31_ndvi.tif']"
      ]
     },
     "execution_count": 14,
     "metadata": {},
     "output_type": "execute_result"
    }
   ],
   "source": [
    "lst"
   ]
  },
  {
   "cell_type": "markdown",
   "metadata": {},
   "source": [
    "## Teste abrir uma imagem do Brazil Data Cube STAC"
   ]
  },
  {
   "cell_type": "code",
   "execution_count": 19,
   "metadata": {},
   "outputs": [
    {
     "name": "stdout",
     "output_type": "stream",
     "text": [
      "{'driver': 'GTiff', 'dtype': 'int16', 'nodata': -9999.0, 'width': 5246, 'height': 3908, 'count': 1, 'crs': CRS.from_wkt('PROJCS[\"unnamed\",GEOGCS[\"WGS 84\",DATUM[\"WGS_1984\",SPHEROID[\"WGS 84\",6378137,298.257223563,AUTHORITY[\"EPSG\",\"7030\"]],AUTHORITY[\"EPSG\",\"6326\"]],PRIMEM[\"Greenwich\",0],UNIT[\"degree\",0.0174532925199433,AUTHORITY[\"EPSG\",\"9122\"]],AUTHORITY[\"EPSG\",\"4326\"]],PROJECTION[\"Albers_Conic_Equal_Area\"],PARAMETER[\"latitude_of_center\",0],PARAMETER[\"longitude_of_center\",-50],PARAMETER[\"standard_parallel_1\",10],PARAMETER[\"standard_parallel_2\",-40],PARAMETER[\"false_easting\",0],PARAMETER[\"false_northing\",0],UNIT[\"metre\",1,AUTHORITY[\"EPSG\",\"9001\"]],AXIS[\"Easting\",EAST],AXIS[\"Northing\",NORTH]]'), 'transform': Affine(30.0, 0.0, 332692.0,\n",
      "       0.0, -30.0, -1356630.0), 'blockxsize': 256, 'blockysize': 256, 'tiled': True, 'compress': 'lzw', 'interleave': 'band'}\n"
     ]
    },
    {
     "data": {
      "image/png": "[encoded data removed]",
      "text/plain": [
       "<Figure size 432x288 with 1 Axes>"
      ]
     },
     "metadata": {
      "needs_background": "light"
     },
     "output_type": "display_data"
    }
   ],
   "source": [
    "lst1 = lst[0]\n",
    "with rasterio.open(lst1) as dataset:\n",
    "    print(dataset.profile)\n",
    "    #img = dataset.read(1) ### open entire scene is heavy\n",
    "    \n",
    "    img = dataset.read(1, window=Window(0, 0, 3000, 3000)) ### Window(col_off, row_off, width, height)\n",
    "    \n",
    "    plt.imshow(img, cmap='gray')\n",
    "    plt.show()"
   ]
  },
  {
   "cell_type": "markdown",
   "metadata": {},
   "source": [
    "## Função Listar\n",
    "\n",
    "03: Definição de uma função para listar todas as imagens contidas na pasta padrão dos dados de entrada. Ao todo, foram consideradas 36 imagens entre os anos de 2017 e 2019."
   ]
  },
  {
   "cell_type": "code",
   "execution_count": null,
   "metadata": {},
   "outputs": [],
   "source": [
    "# Function to list all images from input path - LOCAL files\n",
    "#If you use BDC STAC, don't run this step\n",
    "def list_all_images(image_path):\n",
    "    # Creates an empty list\n",
    "    li_bands = []\n",
    "    for name in os.listdir(image_path):\n",
    "            li_bands.append(os.path.join(image_path,name))\n",
    "    li_bands.sort()\n",
    "    return li_bands"
   ]
  },
  {
   "cell_type": "markdown",
   "metadata": {},
   "source": [
    "## Listar imagens\n",
    "\n",
    "04: Obtenção da leitura e listagem das imagens contidas na pasta padrão dos dados de entrada. Output: leitura e listagem dentro do ambiente Jupyter.\n"
   ]
  },
  {
   "cell_type": "code",
   "execution_count": null,
   "metadata": {},
   "outputs": [],
   "source": [
    "# List input images in folder to stack over time 2017~2019 - 36 images - LOCAL files. \n",
    "#If you use BDC STAC, don't run this step\n",
    "\n",
    "#input path folder \n",
    "path = 'path'\n",
    "\n",
    "#run function created above to list input path folder\n",
    "listimg = list_all_images(path)\n",
    "\n",
    "#print total image in list to check\n",
    "print(len(listimg))\n",
    "\n",
    "#print images names - list elements - to check\n",
    "\n",
    "print(listimg)"
   ]
  },
  {
   "cell_type": "markdown",
   "metadata": {},
   "source": [
    "## Construir stack de 36 datas NDVI dentro da lista\n",
    "\n",
    "05: Definição de pasta padrão para o armazenamento do arquivo stack gerado a partir de toda a série de imagens contidas na pasta padrão dos dados de entrada. Output: leitura das 36 imagens e mosaico de todas elas.\n"
   ]
  },
  {
   "cell_type": "code",
   "execution_count": null,
   "metadata": {},
   "outputs": [],
   "source": [
    "# Input output path to image data stack\n",
    "path_out = 'path'\n",
    "\n",
    "#set working output dir\n",
    "os.chdir(path_out)\n",
    "\n",
    "# Read metadata of first file.\n",
    "#Change listimg[0] to BDC list if you use BDC STAC\n",
    "with rasterio.open(listimg[0]) as src0:\n",
    "    #read metadata of first file in the list and put into \"meta\"\n",
    "    meta = src0.meta\n",
    "    \n",
    "# Update \"meta\" to get total list items. \n",
    "#Change listimg to BDC list if you use BDC STAC\n",
    "meta.update(count = len(listimg))\n",
    "\n",
    "# Read each layer and write it to stack\n",
    "with rasterio.open('stack.tif', 'w', **meta) as dst:\n",
    "    #loop to list images in listimg. \n",
    "    #Change listimg[0] to BDC list if you use BDC STAC\n",
    "    for id, layer in enumerate(listimg, start=1):\n",
    "        print(id, layer)\n",
    "        #open the \"layer\" as src1\n",
    "        with rasterio.open(layer) as src1:\n",
    "            #write it in dst temp file\n",
    "            dst.write_band(id, src1.read(1))"
   ]
  },
  {
   "cell_type": "markdown",
   "metadata": {},
   "source": [
    "## Reprojeta stack para mesma projeção do shapefile de amostras\n",
    "\n",
    "06: Determinação de comando utilizando a biblioteca gdal para condicionar a projeção da imagem stack para a mesma projeção dos dados amostrais, EPSG:32723. Ainda nesta etapa, foi definida a pasta padrão para alocar o arquivo com nova projeção."
   ]
  },
  {
   "cell_type": "code",
   "execution_count": null,
   "metadata": {},
   "outputs": [],
   "source": [
    "### Using gdal warp to reproject stack tif\n",
    "\n",
    "# Set input file name to warp\n",
    "filename = r\"/image.tif\"\n",
    "\n",
    "# Open the input file with gdal.Open\n",
    "input_raster = gdal.Open(filename)\n",
    "\n",
    "# Set output file name\n",
    "output_raster = r\"/imageR.tif\"\n",
    "\n",
    "# Warp the input tif to selected EPSG in dstSRS\n",
    "gdal.Warp(output_raster,input_raster,dstSRS='EPSG:32723')\n",
    "\n",
    "# Clean memory\n",
    "del input_raster\n",
    "del output_raster"
   ]
  },
  {
   "cell_type": "markdown",
   "metadata": {},
   "source": [
    "## Leitura do shapefile e extração das amostras selecionadas por 'Id'\n",
    "\n",
    "07: Leitura dos arquivos de amostras, em formato shapefile (.shp), e seleção de talhões específicos para análise no stmetrics."
   ]
  },
  {
   "cell_type": "code",
   "execution_count": null,
   "metadata": {},
   "outputs": [],
   "source": [
    "## Open shapefile geometry to select id from list\n",
    "shapefile_path = 'path/amostras.shp'\n",
    "\n",
    "#select list shapefile ID to crop and input in STMETRICS\n",
    "list_ids = [1, 2, 3, 4, 5, 6]\n",
    "\n",
    "#output path to selected id shapefile\n",
    "path_out = 'path'\n",
    "\n",
    "#set working output dir\n",
    "os.chdir(path_out)        \n",
    "\n",
    "#fiona to open shapefile, write meta variable\n",
    "with fiona.open(shapefile_path, \"r\") as entrada:\n",
    "    #get metadata \n",
    "    meta = entrada.meta\n",
    "    #write shapefile output \n",
    "    with fiona.open('shp_selected_ids.shp', 'w',**meta) as output:\n",
    "        for feature in entrada:\n",
    "            #loop to list ids from list_ids variable\n",
    "            for i in list_ids:\n",
    "                #if to check selected id and write in output\n",
    "                if feature['properties']['Id'] == i:\n",
    "                    output.write(feature)"
   ]
  },
  {
   "cell_type": "markdown",
   "metadata": {},
   "source": [
    "## Construir crops da imagem nas áreas da amostra*\n",
    "*Esta estratégia foi necessária para conseguirmos rodar o stmetrics eficientemente\n",
    "\n",
    "\n",
    "\n",
    "\n",
    "08: Definição e leitura de extensão geométrica para cada amostra (talhão) escolhida para avaliação.\n",
    "\n",
    "\n",
    "09: Definição de comando para a sobreposição entre o arquivo stack de imagens ao longo do tempo e o arquivo shapefile de amostras.\n",
    "\n",
    "10: Definição de pasta padrão para alocação dos produtos gerados a partir da etapa anterior. Ainda nesta etapa, abertura do arquivo .tif e recorte com base nos limites geográficos de cada talhão analisado.\n",
    "\n"
   ]
  },
  {
   "cell_type": "code",
   "execution_count": null,
   "metadata": {
    "scrolled": true
   },
   "outputs": [],
   "source": [
    "#input path to write crops (raster subset by shapefile id),\n",
    "#this is considered by the processing time of stmetrics\n",
    "path_out = 'path_out_crops'\n",
    "\n",
    "#set working output dir\n",
    "os.chdir(path_out)\n",
    "\n",
    "#open shapefile \n",
    "with fiona.open('path/shp_selected_ids.shp', \"r\") as shapefile:\n",
    "    for feature in shapefile:\n",
    "        # obtendo a geometria associada a feição\n",
    "        geom = shape(feature[\"geometry\"])\n",
    "        #print(feature)\n",
    "        #open tif to crop by selected ids\n",
    "        with rasterio.open('/path/imageR.tif', \"r\") as src:\n",
    "            out_image, out_transform = rasterio.mask.mask(src, [geom], crop=True)\n",
    "            out_meta = src.meta\n",
    "        #print(str(feature['properties']['Id']))\n",
    "        #output file name \n",
    "        out_file = str(feature['properties']['Id']) + 'masked.tif'\n",
    "        #metadata write\n",
    "        out_meta.update({\"driver\": \"GTiff\",\n",
    "                 \"height\": out_image.shape[1],\n",
    "                 \"width\": out_image.shape[2],\n",
    "                 \"transform\": out_transform})\n",
    "        #write output in crop tif \n",
    "        with rasterio.open(out_file, \"w\", **out_meta) as dest:\n",
    "            dest.write(out_image)"
   ]
  },
  {
   "cell_type": "markdown",
   "metadata": {},
   "source": [
    "## Lista a pasta de crops para rodar no stmetrics\n",
    "\n",
    "11: Listagem dos talhões escolhidos para análise dentro do conjunto de amostras disponível e recorte da série temporal de cada talhão de acordo com a extensão dos limites geográficos de cada um."
   ]
  },
  {
   "cell_type": "code",
   "execution_count": null,
   "metadata": {},
   "outputs": [],
   "source": [
    "#input path to cropped tifs\n",
    "path = 'path_crops'\n",
    "\n",
    "#list cropped images\n",
    "listcrop = list_all_images(path)\n",
    "\n",
    "#print list crop\n",
    "print(listcrop)"
   ]
  },
  {
   "cell_type": "markdown",
   "metadata": {},
   "source": [
    "## Loop do stmetrics na lista de raster cropados (amostras)\n",
    "\n",
    "12: Comando para a extração de métricas a partir dos recortes gerados."
   ]
  },
  {
   "cell_type": "code",
   "execution_count": null,
   "metadata": {},
   "outputs": [],
   "source": [
    "#initialize empty list variable\n",
    "im_crop = []\n",
    "\n",
    "#loop to run sits2metrics for cropped images\n",
    "for crop in listcrop: \n",
    "    dataset = rasterio.open(crop)\n",
    "    #metricas = numpy.vstack(lista)\n",
    "    im_crop.append(stmetrics.metrics.sits2metrics(dataset))"
   ]
  },
  {
   "cell_type": "markdown",
   "metadata": {},
   "source": [
    "## Verificação básica das saídas do stmetrics\n",
    "\n",
    "13: Listagem das dimensões de análise e determinação da geração de figuras de cada talhão analisado em cada métrica a ser considerada.\n"
   ]
  },
  {
   "cell_type": "code",
   "execution_count": null,
   "metadata": {},
   "outputs": [],
   "source": [
    "###tests to check the list of numpy arrays, stmetrics output\n",
    "\n",
    "#check crop dimensions\n",
    "#im_crop[3].ndim\n",
    "\n",
    "#check total crop \n",
    "print(len(im_crop))\n",
    "\n",
    "#check data type to use\n",
    "print(type(im_crop))\n",
    "\n",
    "#plot a crop to test plt.imshow\n",
    "plt.imshow(im_crop[2][1,:,:])"
   ]
  },
  {
   "cell_type": "markdown",
   "metadata": {},
   "source": [
    "## Construção do plot gráfico com os crops e as 19 métricas\n",
    "\n",
    "14: Determinação das métricas consideradas, acesso à lista de imagens, ao arquivo .shp contendo as dimensões espaciais de cada talhão em linhas e colunas. Ainda nesta etapa, determinação das configurações dos arquivos de saída, inclusive das figuras geradas para cada talhão."
   ]
  },
  {
   "cell_type": "code",
   "execution_count": null,
   "metadata": {},
   "outputs": [],
   "source": [
    "#create header to metrics in stmetrics lib\n",
    "header=[\"Mean\", \"Max\", \"Min\", \"Std\", \"Sum\",\"Amplitude\",\"First_slope\",\"Area\",\"Area_s1\",\"Area_s2\",\"Area_s3\",\"Area_s4\",\"Circle\",\"Gyration\",\"Polar_balance\",\"Angle\", \"DFA\",\"Hurst\",\"Katz\"]\n",
    "\n",
    "#initialize figure (all) and ax with 19 rows and each crop in new column\n",
    "fig, ax  = plt.subplots(19, len(im_crop) , figsize=(10,30))\n",
    "\n",
    "#loop to create columns on lenght of cropped tifs\n",
    "for column in range(1,len(im_crop)+1):\n",
    "    #print(column)\n",
    "    for b, n in zip(range(1, im_crop[0].shape[0]+1),header):\n",
    "        #b is the metrics index - over 19 metrics\n",
    "        #n is the header index  - over 19 metrics names\n",
    "        #column to control the column ax -column index\n",
    "        #print(column, b, n)\n",
    "        # here we walk through ax row and column to plot with imshow\n",
    "        ax[b-1, column-1].imshow(im_crop[column-1][b-1,:,:])\n",
    "        plt.tight_layout()\n",
    "        #set header title to ax\n",
    "        ax[b-1, column-1].set_title(n)\n",
    "#show figure\n",
    "plt.show()       \n",
    "\n",
    "#extras - to save figure\n",
    "#fig.savefig('out_crop' +'.png', dpi=300, bbox_inches='tight')\n",
    "#plt.close(fig=None)"
   ]
  },
  {
   "cell_type": "code",
   "execution_count": null,
   "metadata": {},
   "outputs": [],
   "source": [
    "## Salvar figura\n",
    "\n",
    "fig.savefig('out_crop' +'.png', dpi=500, bbox_inches='tight')"
   ]
  },
  {
   "cell_type": "markdown",
   "metadata": {},
   "source": [
    "## Extração da média para a amostra para cada data e armazenamento do dado\n",
    "\n",
    "15: Construção de listas de valores da média dos talhões para inserir em gráficos de série temporal, objetivando observar o comportamento temporal do NDVI ao longo do período selecionado."
   ]
  },
  {
   "cell_type": "code",
   "execution_count": null,
   "metadata": {},
   "outputs": [],
   "source": [
    "# initialize empty list variable\n",
    "l = []\n",
    "\n",
    "#for to get mean value to crop in 36 time points\n",
    "for crop in listcrop:\n",
    "    #initialize and clear totalcrop for an 36 time poins stack\n",
    "    totalcrop = []\n",
    "    #append totalcrop in a list of lists called l\n",
    "    l.append(totalcrop)\n",
    "    #open crop\n",
    "    with rasterio.open(crop) as cropimg:\n",
    "        #iterate over bands\n",
    "        for b in range(1, cropimg.count+1):\n",
    "            #read band\n",
    "            data = cropimg.read(b)\n",
    "            #calculate mean not considering no data -9999 values\n",
    "            average = data[data!=-9999].mean()\n",
    "            #print(b, average)\n",
    "            #append the mean in totalcrop list\n",
    "            totalcrop.append(average) \n",
    "            #print(b, mean)\n",
    "            #create a variable num_time\n",
    "            num_time = cropimg.count"
   ]
  },
  {
   "cell_type": "markdown",
   "metadata": {},
   "source": [
    "## Construção da série temporal das amostras\n",
    "\n",
    "16: Construção dos gráficos para os talhões ao longo do período analisado.\n"
   ]
  },
  {
   "cell_type": "code",
   "execution_count": null,
   "metadata": {},
   "outputs": [],
   "source": [
    "#create a time range to use in plot\n",
    "time = range(1, num_time+1)\n",
    "\n",
    "#print(time)\n",
    "\n",
    "#valores_cro1 = l[0]\n",
    "lencrop = (len(l))\n",
    "\n",
    "\n",
    "#initialize figure with crop lenght in rows\n",
    "fig, ax  = plt.subplots(nrows=lencrop,ncols=1, figsize=(20,20))\n",
    "\n",
    "#loop to create rows in lenght of cropped tifs\n",
    "for b in range(0, len(l)):\n",
    "    #save crop in valores crop to use in plot\n",
    "    valores_crop = l[b]\n",
    "    #ax plot the time and valores_crop\n",
    "    ax[b].plot(time,valores_crop)\n",
    "    #plt.tight_layout()\n",
    "    #set header title to ax\n",
    "    n = os.path.basename(listcrop[b])[0:-4]\n",
    "    ax[b].set_title(n)\n",
    "#show figure\n",
    "plt.show()\n",
    "#fig.savefig('out_series' +'.png', dpi=500, bbox_inches='tight')"
   ]
  },
  {
   "cell_type": "code",
   "execution_count": null,
   "metadata": {},
   "outputs": [],
   "source": []
  }
 ],
 "metadata": {
  "kernelspec": {
   "display_name": "Python (STmetrics)",
   "language": "python",
   "name": "ser347_stmetrics"
  },
  "language_info": {
   "codemirror_mode": {
    "name": "ipython",
    "version": 3
   },
   "file_extension": ".py",
   "mimetype": "text/x-python",
   "name": "python",
   "nbconvert_exporter": "python",
   "pygments_lexer": "ipython3",
   "version": "3.8.2"
  }
 },
 "nbformat": 4,
 "nbformat_minor": 4
}
